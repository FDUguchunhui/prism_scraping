{
 "cells": [
  {
   "cell_type": "code",
   "execution_count": 61,
   "metadata": {},
   "outputs": [],
   "source": [
    "import pandas as pd\n",
    "import json\n",
    "import re"
   ]
  },
  {
   "cell_type": "code",
   "execution_count": 62,
   "metadata": {},
   "outputs": [],
   "source": [
    "stroop_table_IV = pd.read_excel('data/Stroop_table.xlsx', sheet_name='table4', dtype=int)"
   ]
  },
  {
   "cell_type": "code",
   "execution_count": 63,
   "metadata": {},
   "outputs": [],
   "source": [
    "stroop_table_IV.columns = ['deviation', 'word_t_score', 'color_t_score', 'color_word_t_score']"
   ]
  },
  {
   "cell_type": "code",
   "execution_count": 64,
   "metadata": {},
   "outputs": [
    {
     "data": {
      "text/html": [
       "<div>\n",
       "<style scoped>\n",
       "    .dataframe tbody tr th:only-of-type {\n",
       "        vertical-align: middle;\n",
       "    }\n",
       "\n",
       "    .dataframe tbody tr th {\n",
       "        vertical-align: top;\n",
       "    }\n",
       "\n",
       "    .dataframe thead th {\n",
       "        text-align: right;\n",
       "    }\n",
       "</style>\n",
       "<table border=\"1\" class=\"dataframe\">\n",
       "  <thead>\n",
       "    <tr style=\"text-align: right;\">\n",
       "      <th></th>\n",
       "      <th>deviation</th>\n",
       "      <th>word_t_score</th>\n",
       "      <th>color_t_score</th>\n",
       "      <th>color_word_t_score</th>\n",
       "    </tr>\n",
       "  </thead>\n",
       "  <tbody>\n",
       "    <tr>\n",
       "      <th>0</th>\n",
       "      <td>50</td>\n",
       "      <td>85</td>\n",
       "      <td>92</td>\n",
       "      <td>98</td>\n",
       "    </tr>\n",
       "    <tr>\n",
       "      <th>1</th>\n",
       "      <td>49</td>\n",
       "      <td>84</td>\n",
       "      <td>91</td>\n",
       "      <td>97</td>\n",
       "    </tr>\n",
       "    <tr>\n",
       "      <th>2</th>\n",
       "      <td>48</td>\n",
       "      <td>84</td>\n",
       "      <td>90</td>\n",
       "      <td>97</td>\n",
       "    </tr>\n",
       "    <tr>\n",
       "      <th>3</th>\n",
       "      <td>47</td>\n",
       "      <td>83</td>\n",
       "      <td>89</td>\n",
       "      <td>96</td>\n",
       "    </tr>\n",
       "    <tr>\n",
       "      <th>4</th>\n",
       "      <td>46</td>\n",
       "      <td>82</td>\n",
       "      <td>88</td>\n",
       "      <td>95</td>\n",
       "    </tr>\n",
       "    <tr>\n",
       "      <th>...</th>\n",
       "      <td>...</td>\n",
       "      <td>...</td>\n",
       "      <td>...</td>\n",
       "      <td>...</td>\n",
       "    </tr>\n",
       "    <tr>\n",
       "      <th>96</th>\n",
       "      <td>-46</td>\n",
       "      <td>18</td>\n",
       "      <td>12</td>\n",
       "      <td>5</td>\n",
       "    </tr>\n",
       "    <tr>\n",
       "      <th>97</th>\n",
       "      <td>-47</td>\n",
       "      <td>17</td>\n",
       "      <td>11</td>\n",
       "      <td>4</td>\n",
       "    </tr>\n",
       "    <tr>\n",
       "      <th>98</th>\n",
       "      <td>-48</td>\n",
       "      <td>16</td>\n",
       "      <td>10</td>\n",
       "      <td>3</td>\n",
       "    </tr>\n",
       "    <tr>\n",
       "      <th>99</th>\n",
       "      <td>-49</td>\n",
       "      <td>16</td>\n",
       "      <td>9</td>\n",
       "      <td>3</td>\n",
       "    </tr>\n",
       "    <tr>\n",
       "      <th>100</th>\n",
       "      <td>-50</td>\n",
       "      <td>15</td>\n",
       "      <td>8</td>\n",
       "      <td>3</td>\n",
       "    </tr>\n",
       "  </tbody>\n",
       "</table>\n",
       "<p>101 rows × 4 columns</p>\n",
       "</div>"
      ],
      "text/plain": [
       "     deviation  word_t_score  color_t_score  color_word_t_score\n",
       "0           50            85             92                  98\n",
       "1           49            84             91                  97\n",
       "2           48            84             90                  97\n",
       "3           47            83             89                  96\n",
       "4           46            82             88                  95\n",
       "..         ...           ...            ...                 ...\n",
       "96         -46            18             12                   5\n",
       "97         -47            17             11                   4\n",
       "98         -48            16             10                   3\n",
       "99         -49            16              9                   3\n",
       "100        -50            15              8                   3\n",
       "\n",
       "[101 rows x 4 columns]"
      ]
     },
     "execution_count": 64,
     "metadata": {},
     "output_type": "execute_result"
    }
   ],
   "source": [
    "stroop_table_IV"
   ]
  },
  {
   "cell_type": "code",
   "execution_count": 65,
   "metadata": {},
   "outputs": [],
   "source": [
    "result = stroop_table_IV .to_json(orient='table',index=False)"
   ]
  },
  {
   "cell_type": "code",
   "execution_count": 66,
   "metadata": {},
   "outputs": [
    {
     "data": {
      "text/plain": [
       "'{\"schema\":{\"fields\":[{\"name\":\"deviation\",\"type\":\"integer\"},{\"name\":\"word_t_score\",\"type\":\"integer\"},{\"name\":\"color_t_score\",\"type\":\"integer\"},{\"name\":\"color_word_t_score\",\"type\":\"integer\"}],\"pandas_version\":\"0.20.0\"},\"data\":[{\"deviation\":50,\"word_t_score\":85,\"color_t_score\":92,\"color_word_t_score\":98},{\"deviation\":49,\"word_t_score\":84,\"color_t_score\":91,\"color_word_t_score\":97},{\"deviation\":48,\"word_t_score\":84,\"color_t_score\":90,\"color_word_t_score\":97},{\"deviation\":47,\"word_t_score\":83,\"color_t_score\":89,\"color_word_t_score\":96},{\"deviation\":46,\"word_t_score\":82,\"color_t_score\":88,\"color_word_t_score\":95},{\"deviation\":45,\"word_t_score\":82,\"color_t_score\":87,\"color_word_t_score\":94},{\"deviation\":44,\"word_t_score\":81,\"color_t_score\":87,\"color_word_t_score\":93},{\"deviation\":43,\"word_t_score\":80,\"color_t_score\":86,\"color_word_t_score\":92},{\"deviation\":42,\"word_t_score\":80,\"color_t_score\":85,\"color_word_t_score\":91},{\"deviation\":41,\"word_t_score\":79,\"color_t_score\":84,\"color_word_t_score\":90},{\"deviation\":40,\"word_t_score\":78,\"color_t_score\":83,\"color_word_t_score\":89},{\"deviation\":39,\"word_t_score\":77,\"color_t_score\":82,\"color_word_t_score\":88},{\"deviation\":38,\"word_t_score\":77,\"color_t_score\":82,\"color_word_t_score\":87},{\"deviation\":37,\"word_t_score\":76,\"color_t_score\":81,\"color_word_t_score\":86},{\"deviation\":36,\"word_t_score\":75,\"color_t_score\":80,\"color_word_t_score\":85},{\"deviation\":35,\"word_t_score\":75,\"color_t_score\":79,\"color_word_t_score\":84},{\"deviation\":34,\"word_t_score\":74,\"color_t_score\":78,\"color_word_t_score\":83},{\"deviation\":33,\"word_t_score\":73,\"color_t_score\":77,\"color_word_t_score\":82},{\"deviation\":32,\"word_t_score\":72,\"color_t_score\":77,\"color_word_t_score\":81},{\"deviation\":31,\"word_t_score\":72,\"color_t_score\":76,\"color_word_t_score\":80},{\"deviation\":30,\"word_t_score\":71,\"color_t_score\":75,\"color_word_t_score\":79},{\"deviation\":29,\"word_t_score\":70,\"color_t_score\":74,\"color_word_t_score\":78},{\"deviation\":28,\"word_t_score\":70,\"color_t_score\":73,\"color_word_t_score\":77},{\"deviation\":27,\"word_t_score\":69,\"color_t_score\":72,\"color_word_t_score\":76},{\"deviation\":26,\"word_t_score\":68,\"color_t_score\":72,\"color_word_t_score\":75},{\"deviation\":25,\"word_t_score\":68,\"color_t_score\":71,\"color_word_t_score\":74},{\"deviation\":24,\"word_t_score\":67,\"color_t_score\":70,\"color_word_t_score\":73},{\"deviation\":23,\"word_t_score\":66,\"color_t_score\":69,\"color_word_t_score\":72},{\"deviation\":22,\"word_t_score\":65,\"color_t_score\":68,\"color_word_t_score\":71},{\"deviation\":21,\"word_t_score\":65,\"color_t_score\":67,\"color_word_t_score\":70},{\"deviation\":20,\"word_t_score\":64,\"color_t_score\":67,\"color_word_t_score\":69},{\"deviation\":19,\"word_t_score\":63,\"color_t_score\":66,\"color_word_t_score\":68},{\"deviation\":18,\"word_t_score\":63,\"color_t_score\":65,\"color_word_t_score\":67},{\"deviation\":17,\"word_t_score\":62,\"color_t_score\":64,\"color_word_t_score\":66},{\"deviation\":16,\"word_t_score\":61,\"color_t_score\":63,\"color_word_t_score\":66},{\"deviation\":15,\"word_t_score\":61,\"color_t_score\":62,\"color_word_t_score\":65},{\"deviation\":14,\"word_t_score\":60,\"color_t_score\":62,\"color_word_t_score\":64},{\"deviation\":13,\"word_t_score\":59,\"color_t_score\":61,\"color_word_t_score\":63},{\"deviation\":12,\"word_t_score\":58,\"color_t_score\":60,\"color_word_t_score\":62},{\"deviation\":11,\"word_t_score\":58,\"color_t_score\":59,\"color_word_t_score\":61},{\"deviation\":10,\"word_t_score\":57,\"color_t_score\":58,\"color_word_t_score\":60},{\"deviation\":9,\"word_t_score\":56,\"color_t_score\":57,\"color_word_t_score\":59},{\"deviation\":8,\"word_t_score\":56,\"color_t_score\":57,\"color_word_t_score\":58},{\"deviation\":7,\"word_t_score\":55,\"color_t_score\":56,\"color_word_t_score\":57},{\"deviation\":6,\"word_t_score\":54,\"color_t_score\":55,\"color_word_t_score\":56},{\"deviation\":5,\"word_t_score\":54,\"color_t_score\":54,\"color_word_t_score\":55},{\"deviation\":4,\"word_t_score\":53,\"color_t_score\":53,\"color_word_t_score\":54},{\"deviation\":3,\"word_t_score\":52,\"color_t_score\":52,\"color_word_t_score\":53},{\"deviation\":2,\"word_t_score\":51,\"color_t_score\":52,\"color_word_t_score\":52},{\"deviation\":1,\"word_t_score\":51,\"color_t_score\":51,\"color_word_t_score\":51},{\"deviation\":0,\"word_t_score\":50,\"color_t_score\":50,\"color_word_t_score\":50},{\"deviation\":-1,\"word_t_score\":49,\"color_t_score\":49,\"color_word_t_score\":49},{\"deviation\":-2,\"word_t_score\":49,\"color_t_score\":48,\"color_word_t_score\":48},{\"deviation\":-3,\"word_t_score\":48,\"color_t_score\":48,\"color_word_t_score\":47},{\"deviation\":-4,\"word_t_score\":47,\"color_t_score\":47,\"color_word_t_score\":46},{\"deviation\":-5,\"word_t_score\":46,\"color_t_score\":46,\"color_word_t_score\":45},{\"deviation\":-6,\"word_t_score\":46,\"color_t_score\":45,\"color_word_t_score\":44},{\"deviation\":-7,\"word_t_score\":45,\"color_t_score\":44,\"color_word_t_score\":43},{\"deviation\":-8,\"word_t_score\":44,\"color_t_score\":43,\"color_word_t_score\":42},{\"deviation\":-9,\"word_t_score\":44,\"color_t_score\":43,\"color_word_t_score\":41},{\"deviation\":-10,\"word_t_score\":43,\"color_t_score\":42,\"color_word_t_score\":40},{\"deviation\":-11,\"word_t_score\":42,\"color_t_score\":41,\"color_word_t_score\":39},{\"deviation\":-12,\"word_t_score\":42,\"color_t_score\":40,\"color_word_t_score\":38},{\"deviation\":-13,\"word_t_score\":41,\"color_t_score\":39,\"color_word_t_score\":37},{\"deviation\":-14,\"word_t_score\":40,\"color_t_score\":38,\"color_word_t_score\":36},{\"deviation\":-15,\"word_t_score\":39,\"color_t_score\":38,\"color_word_t_score\":35},{\"deviation\":-16,\"word_t_score\":39,\"color_t_score\":37,\"color_word_t_score\":34},{\"deviation\":-17,\"word_t_score\":38,\"color_t_score\":36,\"color_word_t_score\":34},{\"deviation\":-18,\"word_t_score\":37,\"color_t_score\":35,\"color_word_t_score\":33},{\"deviation\":-19,\"word_t_score\":37,\"color_t_score\":34,\"color_word_t_score\":32},{\"deviation\":-20,\"word_t_score\":36,\"color_t_score\":33,\"color_word_t_score\":31},{\"deviation\":-21,\"word_t_score\":35,\"color_t_score\":33,\"color_word_t_score\":30},{\"deviation\":-22,\"word_t_score\":35,\"color_t_score\":32,\"color_word_t_score\":29},{\"deviation\":-23,\"word_t_score\":34,\"color_t_score\":31,\"color_word_t_score\":28},{\"deviation\":-24,\"word_t_score\":33,\"color_t_score\":30,\"color_word_t_score\":27},{\"deviation\":-25,\"word_t_score\":32,\"color_t_score\":29,\"color_word_t_score\":26},{\"deviation\":-26,\"word_t_score\":32,\"color_t_score\":28,\"color_word_t_score\":25},{\"deviation\":-27,\"word_t_score\":31,\"color_t_score\":28,\"color_word_t_score\":24},{\"deviation\":-28,\"word_t_score\":30,\"color_t_score\":27,\"color_word_t_score\":23},{\"deviation\":-29,\"word_t_score\":30,\"color_t_score\":26,\"color_word_t_score\":22},{\"deviation\":-30,\"word_t_score\":29,\"color_t_score\":25,\"color_word_t_score\":21},{\"deviation\":-31,\"word_t_score\":28,\"color_t_score\":24,\"color_word_t_score\":20},{\"deviation\":-32,\"word_t_score\":28,\"color_t_score\":23,\"color_word_t_score\":19},{\"deviation\":-33,\"word_t_score\":27,\"color_t_score\":23,\"color_word_t_score\":18},{\"deviation\":-34,\"word_t_score\":26,\"color_t_score\":22,\"color_word_t_score\":17},{\"deviation\":-35,\"word_t_score\":25,\"color_t_score\":21,\"color_word_t_score\":16},{\"deviation\":-36,\"word_t_score\":25,\"color_t_score\":20,\"color_word_t_score\":15},{\"deviation\":-37,\"word_t_score\":24,\"color_t_score\":19,\"color_word_t_score\":14},{\"deviation\":-38,\"word_t_score\":23,\"color_t_score\":18,\"color_word_t_score\":13},{\"deviation\":-39,\"word_t_score\":23,\"color_t_score\":18,\"color_word_t_score\":12},{\"deviation\":-40,\"word_t_score\":22,\"color_t_score\":17,\"color_word_t_score\":11},{\"deviation\":-41,\"word_t_score\":21,\"color_t_score\":16,\"color_word_t_score\":10},{\"deviation\":-42,\"word_t_score\":20,\"color_t_score\":15,\"color_word_t_score\":9},{\"deviation\":-43,\"word_t_score\":20,\"color_t_score\":14,\"color_word_t_score\":8},{\"deviation\":-44,\"word_t_score\":19,\"color_t_score\":13,\"color_word_t_score\":7},{\"deviation\":-45,\"word_t_score\":18,\"color_t_score\":13,\"color_word_t_score\":6},{\"deviation\":-46,\"word_t_score\":18,\"color_t_score\":12,\"color_word_t_score\":5},{\"deviation\":-47,\"word_t_score\":17,\"color_t_score\":11,\"color_word_t_score\":4},{\"deviation\":-48,\"word_t_score\":16,\"color_t_score\":10,\"color_word_t_score\":3},{\"deviation\":-49,\"word_t_score\":16,\"color_t_score\":9,\"color_word_t_score\":3},{\"deviation\":-50,\"word_t_score\":15,\"color_t_score\":8,\"color_word_t_score\":3}]}'"
      ]
     },
     "execution_count": 66,
     "metadata": {},
     "output_type": "execute_result"
    }
   ],
   "source": [
    "result"
   ]
  },
  {
   "cell_type": "code",
   "execution_count": 67,
   "metadata": {},
   "outputs": [],
   "source": [
    "data_json = json.loads(result)['data']"
   ]
  },
  {
   "cell_type": "code",
   "execution_count": 68,
   "metadata": {},
   "outputs": [],
   "source": [
    "json_string = json.dumps(data_json, indent=4)"
   ]
  },
  {
   "cell_type": "code",
   "execution_count": 69,
   "metadata": {},
   "outputs": [],
   "source": [
    "rake_string = re.sub('\"deviation\"', 'deviation', json_string)\n",
    "rake_string = re.sub('\"word_t_score\"', 'word_t_score', rake_string)\n",
    "rake_string = re.sub('\"color_t_score\"', 'color_t_score', rake_string)\n",
    "rake_string = re.sub('\"color_word_t_score\"', 'color_word_t_score', rake_string)\n",
    "# rake_string = re.sub('(?<=[^}][,{])\\n', ' ', rake_string)"
   ]
  },
  {
   "cell_type": "code",
   "execution_count": 70,
   "metadata": {
    "scrolled": true
   },
   "outputs": [
    {
     "data": {
      "text/plain": [
       "'[\\n    {\\n        deviation: 50,\\n        word_t_score: 85,\\n        color_t_score: 92,\\n        color_word_t_score: 98\\n    },\\n    {\\n        deviation: 49,\\n        word_t_score: 84,\\n        color_t_score: 91,\\n        color_word_t_score: 97\\n    },\\n    {\\n        deviation: 48,\\n        word_t_score: 84,\\n        color_t_score: 90,\\n        color_word_t_score: 97\\n    },\\n    {\\n        deviation: 47,\\n        word_t_score: 83,\\n        color_t_score: 89,\\n        color_word_t_score: 96\\n    },\\n    {\\n        deviation: 46,\\n        word_t_score: 82,\\n        color_t_score: 88,\\n        color_word_t_score: 95\\n    },\\n    {\\n        deviation: 45,\\n        word_t_score: 82,\\n        color_t_score: 87,\\n        color_word_t_score: 94\\n    },\\n    {\\n        deviation: 44,\\n        word_t_score: 81,\\n        color_t_score: 87,\\n        color_word_t_score: 93\\n    },\\n    {\\n        deviation: 43,\\n        word_t_score: 80,\\n        color_t_score: 86,\\n        color_word_t_score: 92\\n    },\\n    {\\n        deviation: 42,\\n        word_t_score: 80,\\n        color_t_score: 85,\\n        color_word_t_score: 91\\n    },\\n    {\\n        deviation: 41,\\n        word_t_score: 79,\\n        color_t_score: 84,\\n        color_word_t_score: 90\\n    },\\n    {\\n        deviation: 40,\\n        word_t_score: 78,\\n        color_t_score: 83,\\n        color_word_t_score: 89\\n    },\\n    {\\n        deviation: 39,\\n        word_t_score: 77,\\n        color_t_score: 82,\\n        color_word_t_score: 88\\n    },\\n    {\\n        deviation: 38,\\n        word_t_score: 77,\\n        color_t_score: 82,\\n        color_word_t_score: 87\\n    },\\n    {\\n        deviation: 37,\\n        word_t_score: 76,\\n        color_t_score: 81,\\n        color_word_t_score: 86\\n    },\\n    {\\n        deviation: 36,\\n        word_t_score: 75,\\n        color_t_score: 80,\\n        color_word_t_score: 85\\n    },\\n    {\\n        deviation: 35,\\n        word_t_score: 75,\\n        color_t_score: 79,\\n        color_word_t_score: 84\\n    },\\n    {\\n        deviation: 34,\\n        word_t_score: 74,\\n        color_t_score: 78,\\n        color_word_t_score: 83\\n    },\\n    {\\n        deviation: 33,\\n        word_t_score: 73,\\n        color_t_score: 77,\\n        color_word_t_score: 82\\n    },\\n    {\\n        deviation: 32,\\n        word_t_score: 72,\\n        color_t_score: 77,\\n        color_word_t_score: 81\\n    },\\n    {\\n        deviation: 31,\\n        word_t_score: 72,\\n        color_t_score: 76,\\n        color_word_t_score: 80\\n    },\\n    {\\n        deviation: 30,\\n        word_t_score: 71,\\n        color_t_score: 75,\\n        color_word_t_score: 79\\n    },\\n    {\\n        deviation: 29,\\n        word_t_score: 70,\\n        color_t_score: 74,\\n        color_word_t_score: 78\\n    },\\n    {\\n        deviation: 28,\\n        word_t_score: 70,\\n        color_t_score: 73,\\n        color_word_t_score: 77\\n    },\\n    {\\n        deviation: 27,\\n        word_t_score: 69,\\n        color_t_score: 72,\\n        color_word_t_score: 76\\n    },\\n    {\\n        deviation: 26,\\n        word_t_score: 68,\\n        color_t_score: 72,\\n        color_word_t_score: 75\\n    },\\n    {\\n        deviation: 25,\\n        word_t_score: 68,\\n        color_t_score: 71,\\n        color_word_t_score: 74\\n    },\\n    {\\n        deviation: 24,\\n        word_t_score: 67,\\n        color_t_score: 70,\\n        color_word_t_score: 73\\n    },\\n    {\\n        deviation: 23,\\n        word_t_score: 66,\\n        color_t_score: 69,\\n        color_word_t_score: 72\\n    },\\n    {\\n        deviation: 22,\\n        word_t_score: 65,\\n        color_t_score: 68,\\n        color_word_t_score: 71\\n    },\\n    {\\n        deviation: 21,\\n        word_t_score: 65,\\n        color_t_score: 67,\\n        color_word_t_score: 70\\n    },\\n    {\\n        deviation: 20,\\n        word_t_score: 64,\\n        color_t_score: 67,\\n        color_word_t_score: 69\\n    },\\n    {\\n        deviation: 19,\\n        word_t_score: 63,\\n        color_t_score: 66,\\n        color_word_t_score: 68\\n    },\\n    {\\n        deviation: 18,\\n        word_t_score: 63,\\n        color_t_score: 65,\\n        color_word_t_score: 67\\n    },\\n    {\\n        deviation: 17,\\n        word_t_score: 62,\\n        color_t_score: 64,\\n        color_word_t_score: 66\\n    },\\n    {\\n        deviation: 16,\\n        word_t_score: 61,\\n        color_t_score: 63,\\n        color_word_t_score: 66\\n    },\\n    {\\n        deviation: 15,\\n        word_t_score: 61,\\n        color_t_score: 62,\\n        color_word_t_score: 65\\n    },\\n    {\\n        deviation: 14,\\n        word_t_score: 60,\\n        color_t_score: 62,\\n        color_word_t_score: 64\\n    },\\n    {\\n        deviation: 13,\\n        word_t_score: 59,\\n        color_t_score: 61,\\n        color_word_t_score: 63\\n    },\\n    {\\n        deviation: 12,\\n        word_t_score: 58,\\n        color_t_score: 60,\\n        color_word_t_score: 62\\n    },\\n    {\\n        deviation: 11,\\n        word_t_score: 58,\\n        color_t_score: 59,\\n        color_word_t_score: 61\\n    },\\n    {\\n        deviation: 10,\\n        word_t_score: 57,\\n        color_t_score: 58,\\n        color_word_t_score: 60\\n    },\\n    {\\n        deviation: 9,\\n        word_t_score: 56,\\n        color_t_score: 57,\\n        color_word_t_score: 59\\n    },\\n    {\\n        deviation: 8,\\n        word_t_score: 56,\\n        color_t_score: 57,\\n        color_word_t_score: 58\\n    },\\n    {\\n        deviation: 7,\\n        word_t_score: 55,\\n        color_t_score: 56,\\n        color_word_t_score: 57\\n    },\\n    {\\n        deviation: 6,\\n        word_t_score: 54,\\n        color_t_score: 55,\\n        color_word_t_score: 56\\n    },\\n    {\\n        deviation: 5,\\n        word_t_score: 54,\\n        color_t_score: 54,\\n        color_word_t_score: 55\\n    },\\n    {\\n        deviation: 4,\\n        word_t_score: 53,\\n        color_t_score: 53,\\n        color_word_t_score: 54\\n    },\\n    {\\n        deviation: 3,\\n        word_t_score: 52,\\n        color_t_score: 52,\\n        color_word_t_score: 53\\n    },\\n    {\\n        deviation: 2,\\n        word_t_score: 51,\\n        color_t_score: 52,\\n        color_word_t_score: 52\\n    },\\n    {\\n        deviation: 1,\\n        word_t_score: 51,\\n        color_t_score: 51,\\n        color_word_t_score: 51\\n    },\\n    {\\n        deviation: 0,\\n        word_t_score: 50,\\n        color_t_score: 50,\\n        color_word_t_score: 50\\n    },\\n    {\\n        deviation: -1,\\n        word_t_score: 49,\\n        color_t_score: 49,\\n        color_word_t_score: 49\\n    },\\n    {\\n        deviation: -2,\\n        word_t_score: 49,\\n        color_t_score: 48,\\n        color_word_t_score: 48\\n    },\\n    {\\n        deviation: -3,\\n        word_t_score: 48,\\n        color_t_score: 48,\\n        color_word_t_score: 47\\n    },\\n    {\\n        deviation: -4,\\n        word_t_score: 47,\\n        color_t_score: 47,\\n        color_word_t_score: 46\\n    },\\n    {\\n        deviation: -5,\\n        word_t_score: 46,\\n        color_t_score: 46,\\n        color_word_t_score: 45\\n    },\\n    {\\n        deviation: -6,\\n        word_t_score: 46,\\n        color_t_score: 45,\\n        color_word_t_score: 44\\n    },\\n    {\\n        deviation: -7,\\n        word_t_score: 45,\\n        color_t_score: 44,\\n        color_word_t_score: 43\\n    },\\n    {\\n        deviation: -8,\\n        word_t_score: 44,\\n        color_t_score: 43,\\n        color_word_t_score: 42\\n    },\\n    {\\n        deviation: -9,\\n        word_t_score: 44,\\n        color_t_score: 43,\\n        color_word_t_score: 41\\n    },\\n    {\\n        deviation: -10,\\n        word_t_score: 43,\\n        color_t_score: 42,\\n        color_word_t_score: 40\\n    },\\n    {\\n        deviation: -11,\\n        word_t_score: 42,\\n        color_t_score: 41,\\n        color_word_t_score: 39\\n    },\\n    {\\n        deviation: -12,\\n        word_t_score: 42,\\n        color_t_score: 40,\\n        color_word_t_score: 38\\n    },\\n    {\\n        deviation: -13,\\n        word_t_score: 41,\\n        color_t_score: 39,\\n        color_word_t_score: 37\\n    },\\n    {\\n        deviation: -14,\\n        word_t_score: 40,\\n        color_t_score: 38,\\n        color_word_t_score: 36\\n    },\\n    {\\n        deviation: -15,\\n        word_t_score: 39,\\n        color_t_score: 38,\\n        color_word_t_score: 35\\n    },\\n    {\\n        deviation: -16,\\n        word_t_score: 39,\\n        color_t_score: 37,\\n        color_word_t_score: 34\\n    },\\n    {\\n        deviation: -17,\\n        word_t_score: 38,\\n        color_t_score: 36,\\n        color_word_t_score: 34\\n    },\\n    {\\n        deviation: -18,\\n        word_t_score: 37,\\n        color_t_score: 35,\\n        color_word_t_score: 33\\n    },\\n    {\\n        deviation: -19,\\n        word_t_score: 37,\\n        color_t_score: 34,\\n        color_word_t_score: 32\\n    },\\n    {\\n        deviation: -20,\\n        word_t_score: 36,\\n        color_t_score: 33,\\n        color_word_t_score: 31\\n    },\\n    {\\n        deviation: -21,\\n        word_t_score: 35,\\n        color_t_score: 33,\\n        color_word_t_score: 30\\n    },\\n    {\\n        deviation: -22,\\n        word_t_score: 35,\\n        color_t_score: 32,\\n        color_word_t_score: 29\\n    },\\n    {\\n        deviation: -23,\\n        word_t_score: 34,\\n        color_t_score: 31,\\n        color_word_t_score: 28\\n    },\\n    {\\n        deviation: -24,\\n        word_t_score: 33,\\n        color_t_score: 30,\\n        color_word_t_score: 27\\n    },\\n    {\\n        deviation: -25,\\n        word_t_score: 32,\\n        color_t_score: 29,\\n        color_word_t_score: 26\\n    },\\n    {\\n        deviation: -26,\\n        word_t_score: 32,\\n        color_t_score: 28,\\n        color_word_t_score: 25\\n    },\\n    {\\n        deviation: -27,\\n        word_t_score: 31,\\n        color_t_score: 28,\\n        color_word_t_score: 24\\n    },\\n    {\\n        deviation: -28,\\n        word_t_score: 30,\\n        color_t_score: 27,\\n        color_word_t_score: 23\\n    },\\n    {\\n        deviation: -29,\\n        word_t_score: 30,\\n        color_t_score: 26,\\n        color_word_t_score: 22\\n    },\\n    {\\n        deviation: -30,\\n        word_t_score: 29,\\n        color_t_score: 25,\\n        color_word_t_score: 21\\n    },\\n    {\\n        deviation: -31,\\n        word_t_score: 28,\\n        color_t_score: 24,\\n        color_word_t_score: 20\\n    },\\n    {\\n        deviation: -32,\\n        word_t_score: 28,\\n        color_t_score: 23,\\n        color_word_t_score: 19\\n    },\\n    {\\n        deviation: -33,\\n        word_t_score: 27,\\n        color_t_score: 23,\\n        color_word_t_score: 18\\n    },\\n    {\\n        deviation: -34,\\n        word_t_score: 26,\\n        color_t_score: 22,\\n        color_word_t_score: 17\\n    },\\n    {\\n        deviation: -35,\\n        word_t_score: 25,\\n        color_t_score: 21,\\n        color_word_t_score: 16\\n    },\\n    {\\n        deviation: -36,\\n        word_t_score: 25,\\n        color_t_score: 20,\\n        color_word_t_score: 15\\n    },\\n    {\\n        deviation: -37,\\n        word_t_score: 24,\\n        color_t_score: 19,\\n        color_word_t_score: 14\\n    },\\n    {\\n        deviation: -38,\\n        word_t_score: 23,\\n        color_t_score: 18,\\n        color_word_t_score: 13\\n    },\\n    {\\n        deviation: -39,\\n        word_t_score: 23,\\n        color_t_score: 18,\\n        color_word_t_score: 12\\n    },\\n    {\\n        deviation: -40,\\n        word_t_score: 22,\\n        color_t_score: 17,\\n        color_word_t_score: 11\\n    },\\n    {\\n        deviation: -41,\\n        word_t_score: 21,\\n        color_t_score: 16,\\n        color_word_t_score: 10\\n    },\\n    {\\n        deviation: -42,\\n        word_t_score: 20,\\n        color_t_score: 15,\\n        color_word_t_score: 9\\n    },\\n    {\\n        deviation: -43,\\n        word_t_score: 20,\\n        color_t_score: 14,\\n        color_word_t_score: 8\\n    },\\n    {\\n        deviation: -44,\\n        word_t_score: 19,\\n        color_t_score: 13,\\n        color_word_t_score: 7\\n    },\\n    {\\n        deviation: -45,\\n        word_t_score: 18,\\n        color_t_score: 13,\\n        color_word_t_score: 6\\n    },\\n    {\\n        deviation: -46,\\n        word_t_score: 18,\\n        color_t_score: 12,\\n        color_word_t_score: 5\\n    },\\n    {\\n        deviation: -47,\\n        word_t_score: 17,\\n        color_t_score: 11,\\n        color_word_t_score: 4\\n    },\\n    {\\n        deviation: -48,\\n        word_t_score: 16,\\n        color_t_score: 10,\\n        color_word_t_score: 3\\n    },\\n    {\\n        deviation: -49,\\n        word_t_score: 16,\\n        color_t_score: 9,\\n        color_word_t_score: 3\\n    },\\n    {\\n        deviation: -50,\\n        word_t_score: 15,\\n        color_t_score: 8,\\n        color_word_t_score: 3\\n    }\\n]'"
      ]
     },
     "execution_count": 70,
     "metadata": {},
     "output_type": "execute_result"
    }
   ],
   "source": [
    "rake_string"
   ]
  },
  {
   "cell_type": "code",
   "execution_count": 71,
   "metadata": {},
   "outputs": [],
   "source": [
    "with open('output/stroop_table_IV.rake', 'w') as f:\n",
    "    f.write(rake_string)"
   ]
  },
  {
   "cell_type": "code",
   "execution_count": null,
   "metadata": {},
   "outputs": [],
   "source": []
  },
  {
   "cell_type": "code",
   "execution_count": null,
   "metadata": {},
   "outputs": [],
   "source": []
  },
  {
   "cell_type": "code",
   "execution_count": null,
   "metadata": {},
   "outputs": [],
   "source": []
  }
 ],
 "metadata": {
  "kernelspec": {
   "display_name": "Python 3",
   "language": "python",
   "name": "python3"
  },
  "language_info": {
   "codemirror_mode": {
    "name": "ipython",
    "version": 3
   },
   "file_extension": ".py",
   "mimetype": "text/x-python",
   "name": "python",
   "nbconvert_exporter": "python",
   "pygments_lexer": "ipython3",
   "version": "3.8.3"
  }
 },
 "nbformat": 4,
 "nbformat_minor": 4
}
