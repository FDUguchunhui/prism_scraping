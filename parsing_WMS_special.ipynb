{
 "cells": [
  {
   "cell_type": "code",
   "execution_count": 68,
   "metadata": {},
   "outputs": [],
   "source": [
    "import pandas as pd\n",
    "import numpy as np\n",
    "import json\n",
    "import re"
   ]
  },
  {
   "cell_type": "code",
   "execution_count": 69,
   "metadata": {},
   "outputs": [],
   "source": [
    "OUTPUT_FILE = 'output/vms_iv_recognition.rake'"
   ]
  },
  {
   "cell_type": "code",
   "execution_count": 70,
   "metadata": {},
   "outputs": [],
   "source": [
    "wms_special = pd.read_excel('data/wms_special.xlsx', dtype={'group': str, 'age_from': np.float64, 'age_to': np.float64})"
   ]
  },
  {
   "cell_type": "code",
   "execution_count": 71,
   "metadata": {},
   "outputs": [],
   "source": [
    "wms_special['percentage_from'] = wms_special['percentage_from'].astype('Int64')\n",
    "wms_special['percentage_to'] = wms_special['percentage_to'].astype('Int64')\n",
    "\n",
    "wms_special['lmii_recognition_from'] = wms_special['lmii_recognition_from'].astype('Int64')\n",
    "wms_special['lmii_recognition_to'] = wms_special['lmii_recognition_to'].astype('Int64')\n",
    "\n",
    "wms_special['vpaii_recognition_from'] = wms_special['vpaii_recognition_from'].astype('Int64')\n",
    "wms_special['vpaii_recognition_to'] = wms_special['vpaii_recognition_to'].astype('Int64')\n",
    "\n",
    "wms_special['vrii_recognition_from'] = wms_special['vrii_recognition_from'].astype('Int64')\n",
    "wms_special['vrii_recognition_to'] = wms_special['vrii_recognition_to'].astype('Int64')"
   ]
  },
  {
   "cell_type": "code",
   "execution_count": 72,
   "metadata": {},
   "outputs": [
    {
     "data": {
      "text/plain": [
       "group                      object\n",
       "age_from                  float64\n",
       "age_to                    float64\n",
       "percentage_from             Int64\n",
       "percentage_to               Int64\n",
       "lmii_recognition_from       Int64\n",
       "lmii_recognition_to         Int64\n",
       "vpaii_recognition_from      Int64\n",
       "vpaii_recognition_to        Int64\n",
       "vrii_recognition_from       Int64\n",
       "vrii_recognition_to         Int64\n",
       "dtype: object"
      ]
     },
     "execution_count": 72,
     "metadata": {},
     "output_type": "execute_result"
    }
   ],
   "source": [
    "wms_special.dtypes"
   ]
  },
  {
   "cell_type": "code",
   "execution_count": 73,
   "metadata": {},
   "outputs": [],
   "source": [
    "wms_recognition = wms_special[wms_special['group'] == 'adult']"
   ]
  },
  {
   "cell_type": "code",
   "execution_count": 74,
   "metadata": {},
   "outputs": [
    {
     "name": "stderr",
     "output_type": "stream",
     "text": [
      "/var/folders/vx/43t39d2x5rq3c_gh_5hsw01r0000gn/T/ipykernel_88299/3130154533.py:1: FutureWarning: In a future version of pandas all arguments of DataFrame.drop except for the argument 'labels' will be keyword-only\n",
      "  wms_recognition = wms_recognition.drop('group', 1)\n"
     ]
    }
   ],
   "source": [
    "wms_recognition = wms_recognition.drop('group', 1)"
   ]
  },
  {
   "cell_type": "code",
   "execution_count": 75,
   "metadata": {},
   "outputs": [],
   "source": [
    "result = wms_recognition.to_json(double_precision=2, orient='table',index=False)\n",
    "data_json = json.loads(result)['data']"
   ]
  },
  {
   "cell_type": "code",
   "execution_count": 76,
   "metadata": {},
   "outputs": [],
   "source": [
    "json_string = json.dumps(data_json, indent=4)"
   ]
  },
  {
   "cell_type": "code",
   "execution_count": 77,
   "metadata": {},
   "outputs": [],
   "source": [
    "rake_string = re.sub('\"', '', json_string)\n",
    "rake_string = re.sub('\\S+: null,?\\n[^\\S]+', '', rake_string)"
   ]
  },
  {
   "cell_type": "code",
   "execution_count": 78,
   "metadata": {
    "scrolled": true
   },
   "outputs": [
    {
     "data": {
      "text/plain": [
       "'[\\n    {\\n        age_from: 16.0,\\n        age_to: 17.11,\\n        percentage_to: 2,\\n        lmii_recognition_from: 0,\\n        lmii_recognition_to: 17,\\n        vpaii_recognition_from: 0,\\n        vpaii_recognition_to: 31,\\n        vrii_recognition_from: 0,\\n        vrii_recognition_to: 3\\n    },\\n    {\\n        age_from: 16.0,\\n        age_to: 17.11,\\n        percentage_from: 3,\\n        percentage_to: 9,\\n        lmii_recognition_from: 18,\\n        lmii_recognition_to: 20,\\n        vpaii_recognition_from: 32,\\n        vpaii_recognition_to: 37,\\n        vrii_recognition_from: 4,\\n        },\\n    {\\n        age_from: 16.0,\\n        age_to: 17.11,\\n        percentage_from: 10,\\n        percentage_to: 16,\\n        lmii_recognition_from: 21,\\n        lmii_recognition_to: 22,\\n        vpaii_recognition_from: 38,\\n        },\\n    {\\n        age_from: 16.0,\\n        age_to: 17.11,\\n        percentage_from: 17,\\n        percentage_to: 25,\\n        lmii_recognition_from: 23,\\n        vrii_recognition_from: 5,\\n        },\\n    {\\n        age_from: 16.0,\\n        age_to: 17.11,\\n        percentage_from: 26,\\n        percentage_to: 50,\\n        lmii_recognition_from: 24,\\n        lmii_recognition_to: 25,\\n        vpaii_recognition_from: 39,\\n        vrii_recognition_from: 6,\\n        },\\n    {\\n        age_from: 16.0,\\n        age_to: 17.11,\\n        percentage_from: 51,\\n        percentage_to: 75,\\n        lmii_recognition_from: 26,\\n        },\\n    {\\n        age_from: 16.0,\\n        age_to: 17.11,\\n        percentage_from: 76,\\n        lmii_recognition_from: 27,\\n        lmii_recognition_to: 30,\\n        vpaii_recognition_from: 40,\\n        vrii_recognition_from: 7,\\n        },\\n    {\\n        age_from: 18.0,\\n        age_to: 19.11,\\n        percentage_to: 2,\\n        lmii_recognition_from: 0,\\n        lmii_recognition_to: 14,\\n        vpaii_recognition_from: 0,\\n        vpaii_recognition_to: 18,\\n        vrii_recognition_from: 0,\\n        },\\n    {\\n        age_from: 18.0,\\n        age_to: 19.11,\\n        percentage_from: 3,\\n        percentage_to: 9,\\n        lmii_recognition_from: 15,\\n        vpaii_recognition_from: 19,\\n        vpaii_recognition_to: 24,\\n        vrii_recognition_from: 1,\\n        vrii_recognition_to: 2\\n    },\\n    {\\n        age_from: 18.0,\\n        age_to: 19.11,\\n        percentage_from: 10,\\n        percentage_to: 16,\\n        lmii_recognition_from: 16,\\n        vpaii_recognition_from: 25,\\n        },\\n    {\\n        age_from: 18.0,\\n        age_to: 19.11,\\n        percentage_from: 17,\\n        percentage_to: 25,\\n        lmii_recognition_from: 17,\\n        vpaii_recognition_from: 26,\\n        vrii_recognition_from: 3,\\n        },\\n    {\\n        age_from: 18.0,\\n        age_to: 19.11,\\n        percentage_from: 26,\\n        percentage_to: 50,\\n        lmii_recognition_from: 18,\\n        vpaii_recognition_from: 27,\\n        vpaii_recognition_to: 28,\\n        vrii_recognition_from: 4,\\n        },\\n    {\\n        age_from: 18.0,\\n        age_to: 19.11,\\n        percentage_from: 51,\\n        percentage_to: 75,\\n        lmii_recognition_from: 19,\\n        lmii_recognition_to: 20,\\n        vpaii_recognition_from: 29,\\n        vrii_recognition_from: 5,\\n        },\\n    {\\n        age_from: 18.0,\\n        age_to: 19.11,\\n        percentage_from: 76,\\n        lmii_recognition_from: 21,\\n        lmii_recognition_to: 23,\\n        vpaii_recognition_from: 30,\\n        vrii_recognition_from: 6,\\n        vrii_recognition_to: 7\\n    },\\n    {\\n        age_from: 20.0,\\n        age_to: 24.11,\\n        percentage_to: 2,\\n        lmii_recognition_from: 0,\\n        lmii_recognition_to: 17,\\n        vpaii_recognition_from: 0,\\n        vpaii_recognition_to: 30,\\n        vrii_recognition_from: 0,\\n        vrii_recognition_to: 3\\n    },\\n    {\\n        age_from: 20.0,\\n        age_to: 24.11,\\n        percentage_from: 3,\\n        percentage_to: 9,\\n        lmii_recognition_from: 18,\\n        lmii_recognition_to: 20,\\n        vpaii_recognition_from: 31,\\n        vpaii_recognition_to: 36,\\n        vrii_recognition_from: 4,\\n        },\\n    {\\n        age_from: 20.0,\\n        age_to: 24.11,\\n        percentage_from: 10,\\n        percentage_to: 16,\\n        lmii_recognition_from: 21,\\n        vpaii_recognition_from: 37,\\n        },\\n    {\\n        age_from: 20.0,\\n        age_to: 24.11,\\n        percentage_from: 17,\\n        percentage_to: 25,\\n        lmii_recognition_from: 22,\\n        vpaii_recognition_from: 38,\\n        vrii_recognition_from: 5,\\n        },\\n    {\\n        age_from: 20.0,\\n        age_to: 24.11,\\n        percentage_from: 26,\\n        percentage_to: 50,\\n        lmii_recognition_from: 23,\\n        lmii_recognition_to: 25,\\n        vpaii_recognition_from: 39,\\n        vrii_recognition_from: 6,\\n        },\\n    {\\n        age_from: 20.0,\\n        age_to: 24.11,\\n        percentage_from: 51,\\n        percentage_to: 75,\\n        lmii_recognition_from: 26,\\n        },\\n    {\\n        age_from: 20.0,\\n        age_to: 24.11,\\n        percentage_from: 76,\\n        lmii_recognition_from: 27,\\n        lmii_recognition_to: 30,\\n        vpaii_recognition_from: 40,\\n        vrii_recognition_from: 7,\\n        },\\n    {\\n        age_from: 25.0,\\n        age_to: 29.11,\\n        percentage_to: 2,\\n        lmii_recognition_from: 0,\\n        lmii_recognition_to: 17,\\n        vpaii_recognition_from: 0,\\n        vpaii_recognition_to: 30,\\n        vrii_recognition_from: 0,\\n        vrii_recognition_to: 2\\n    },\\n    {\\n        age_from: 25.0,\\n        age_to: 29.11,\\n        percentage_from: 3,\\n        percentage_to: 9,\\n        lmii_recognition_from: 18,\\n        lmii_recognition_to: 20,\\n        vpaii_recognition_from: 31,\\n        vpaii_recognition_to: 35,\\n        vrii_recognition_from: 3,\\n        vrii_recognition_to: 4\\n    },\\n    {\\n        age_from: 25.0,\\n        age_to: 29.11,\\n        percentage_from: 10,\\n        percentage_to: 16,\\n        lmii_recognition_from: 21,\\n        vpaii_recognition_from: 36,\\n        vpaii_recognition_to: 37,\\n        },\\n    {\\n        age_from: 25.0,\\n        age_to: 29.11,\\n        percentage_from: 17,\\n        percentage_to: 25,\\n        lmii_recognition_from: 22,\\n        vpaii_recognition_from: 38,\\n        vrii_recognition_from: 5,\\n        },\\n    {\\n        age_from: 25.0,\\n        age_to: 29.11,\\n        percentage_from: 26,\\n        percentage_to: 50,\\n        lmii_recognition_from: 23,\\n        lmii_recognition_to: 25,\\n        vpaii_recognition_from: 39,\\n        vrii_recognition_from: 6,\\n        },\\n    {\\n        age_from: 25.0,\\n        age_to: 29.11,\\n        percentage_from: 51,\\n        percentage_to: 75,\\n        lmii_recognition_from: 26,\\n        },\\n    {\\n        age_from: 25.0,\\n        age_to: 29.11,\\n        percentage_from: 76,\\n        lmii_recognition_from: 27,\\n        lmii_recognition_to: 30,\\n        vpaii_recognition_from: 40,\\n        vrii_recognition_from: 7,\\n        },\\n    {\\n        age_from: 30.0,\\n        age_to: 34.11,\\n        percentage_to: 2,\\n        lmii_recognition_from: 0,\\n        lmii_recognition_to: 17,\\n        vpaii_recognition_from: 0,\\n        vpaii_recognition_to: 30,\\n        vrii_recognition_from: 0,\\n        vrii_recognition_to: 2\\n    },\\n    {\\n        age_from: 30.0,\\n        age_to: 34.11,\\n        percentage_from: 3,\\n        percentage_to: 9,\\n        lmii_recognition_from: 18,\\n        lmii_recognition_to: 20,\\n        vpaii_recognition_from: 31,\\n        vpaii_recognition_to: 35,\\n        vrii_recognition_from: 3,\\n        vrii_recognition_to: 4\\n    },\\n    {\\n        age_from: 30.0,\\n        age_to: 34.11,\\n        percentage_from: 10,\\n        percentage_to: 16,\\n        lmii_recognition_from: 21,\\n        vpaii_recognition_from: 36,\\n        vpaii_recognition_to: 37,\\n        },\\n    {\\n        age_from: 30.0,\\n        age_to: 34.11,\\n        percentage_from: 17,\\n        percentage_to: 25,\\n        lmii_recognition_from: 22,\\n        vpaii_recognition_from: 38,\\n        vrii_recognition_from: 5,\\n        },\\n    {\\n        age_from: 30.0,\\n        age_to: 34.11,\\n        percentage_from: 26,\\n        percentage_to: 50,\\n        lmii_recognition_from: 23,\\n        lmii_recognition_to: 24,\\n        vpaii_recognition_from: 39,\\n        },\\n    {\\n        age_from: 30.0,\\n        age_to: 34.11,\\n        percentage_from: 51,\\n        percentage_to: 75,\\n        lmii_recognition_from: 25,\\n        lmii_recognition_to: 26,\\n        vrii_recognition_from: 6,\\n        },\\n    {\\n        age_from: 30.0,\\n        age_to: 34.11,\\n        percentage_from: 76,\\n        lmii_recognition_from: 27,\\n        lmii_recognition_to: 30,\\n        vpaii_recognition_from: 40,\\n        vrii_recognition_from: 7,\\n        },\\n    {\\n        age_from: 35.0,\\n        age_to: 44.11,\\n        percentage_to: 2,\\n        lmii_recognition_from: 0,\\n        lmii_recognition_to: 17,\\n        vpaii_recognition_from: 0,\\n        vpaii_recognition_to: 30,\\n        vrii_recognition_from: 0,\\n        vrii_recognition_to: 2\\n    },\\n    {\\n        age_from: 35.0,\\n        age_to: 44.11,\\n        percentage_from: 3,\\n        percentage_to: 9,\\n        lmii_recognition_from: 18,\\n        lmii_recognition_to: 20,\\n        vpaii_recognition_from: 31,\\n        vpaii_recognition_to: 34,\\n        vrii_recognition_from: 3,\\n        },\\n    {\\n        age_from: 35.0,\\n        age_to: 44.11,\\n        percentage_from: 10,\\n        percentage_to: 16,\\n        lmii_recognition_from: 21,\\n        vpaii_recognition_from: 35,\\n        vpaii_recognition_to: 36,\\n        vrii_recognition_from: 4,\\n        },\\n    {\\n        age_from: 35.0,\\n        age_to: 44.11,\\n        percentage_from: 17,\\n        percentage_to: 25,\\n        lmii_recognition_from: 22,\\n        vpaii_recognition_from: 37,\\n        vrii_recognition_from: 5,\\n        },\\n    {\\n        age_from: 35.0,\\n        age_to: 44.11,\\n        percentage_from: 26,\\n        percentage_to: 50,\\n        lmii_recognition_from: 23,\\n        lmii_recognition_to: 24,\\n        vpaii_recognition_from: 38,\\n        vpaii_recognition_to: 39,\\n        },\\n    {\\n        age_from: 35.0,\\n        age_to: 44.11,\\n        percentage_from: 51,\\n        percentage_to: 75,\\n        lmii_recognition_from: 25,\\n        lmii_recognition_to: 26,\\n        vrii_recognition_from: 6,\\n        },\\n    {\\n        age_from: 35.0,\\n        age_to: 44.11,\\n        percentage_from: 76,\\n        lmii_recognition_from: 27,\\n        lmii_recognition_to: 30,\\n        vpaii_recognition_from: 40,\\n        vrii_recognition_from: 7,\\n        },\\n    {\\n        age_from: 45.0,\\n        age_to: 54.11,\\n        percentage_to: 2,\\n        lmii_recognition_from: 0,\\n        lmii_recognition_to: 17,\\n        vpaii_recognition_from: 0,\\n        vpaii_recognition_to: 29,\\n        vrii_recognition_from: 0,\\n        vrii_recognition_to: 2\\n    },\\n    {\\n        age_from: 45.0,\\n        age_to: 54.11,\\n        percentage_from: 3,\\n        percentage_to: 9,\\n        lmii_recognition_from: 18,\\n        lmii_recognition_to: 20,\\n        vpaii_recognition_from: 30,\\n        vpaii_recognition_to: 33,\\n        vrii_recognition_from: 3,\\n        },\\n    {\\n        age_from: 45.0,\\n        age_to: 54.11,\\n        percentage_from: 10,\\n        percentage_to: 16,\\n        lmii_recognition_from: 21,\\n        vpaii_recognition_from: 34,\\n        vpaii_recognition_to: 35,\\n        },\\n    {\\n        age_from: 45.0,\\n        age_to: 54.11,\\n        percentage_from: 17,\\n        percentage_to: 25,\\n        lmii_recognition_from: 22,\\n        vpaii_recognition_from: 36,\\n        vrii_recognition_from: 4,\\n        },\\n    {\\n        age_from: 45.0,\\n        age_to: 54.11,\\n        percentage_from: 26,\\n        percentage_to: 50,\\n        lmii_recognition_from: 23,\\n        lmii_recognition_to: 24,\\n        vpaii_recognition_from: 37,\\n        vpaii_recognition_to: 38,\\n        vrii_recognition_from: 5,\\n        },\\n    {\\n        age_from: 45.0,\\n        age_to: 54.11,\\n        percentage_from: 51,\\n        percentage_to: 75,\\n        lmii_recognition_from: 25,\\n        vpaii_recognition_from: 39,\\n        vrii_recognition_from: 6,\\n        },\\n    {\\n        age_from: 45.0,\\n        age_to: 54.11,\\n        percentage_from: 76,\\n        lmii_recognition_from: 26,\\n        lmii_recognition_to: 30,\\n        vpaii_recognition_from: 40,\\n        vrii_recognition_from: 7,\\n        },\\n    {\\n        age_from: 55.0,\\n        age_to: 64.11,\\n        percentage_to: 2,\\n        lmii_recognition_from: 0,\\n        lmii_recognition_to: 17,\\n        vpaii_recognition_from: 0,\\n        vpaii_recognition_to: 28,\\n        vrii_recognition_from: 0,\\n        vrii_recognition_to: 2\\n    },\\n    {\\n        age_from: 55.0,\\n        age_to: 64.11,\\n        percentage_from: 3,\\n        percentage_to: 9,\\n        lmii_recognition_from: 18,\\n        lmii_recognition_to: 20,\\n        vpaii_recognition_from: 29,\\n        vpaii_recognition_to: 33,\\n        },\\n    {\\n        age_from: 55.0,\\n        age_to: 64.11,\\n        percentage_from: 10,\\n        percentage_to: 16,\\n        lmii_recognition_from: 21,\\n        vpaii_recognition_from: 34,\\n        vrii_recognition_from: 3,\\n        },\\n    {\\n        age_from: 55.0,\\n        age_to: 64.11,\\n        percentage_from: 17,\\n        percentage_to: 25,\\n        lmii_recognition_from: 22,\\n        vpaii_recognition_from: 35,\\n        vpaii_recognition_to: 36,\\n        vrii_recognition_from: 4,\\n        },\\n    {\\n        age_from: 55.0,\\n        age_to: 64.11,\\n        percentage_from: 26,\\n        percentage_to: 50,\\n        lmii_recognition_from: 23,\\n        lmii_recognition_to: 24,\\n        vpaii_recognition_from: 37,\\n        vpaii_recognition_to: 38,\\n        vrii_recognition_from: 5,\\n        },\\n    {\\n        age_from: 55.0,\\n        age_to: 64.11,\\n        percentage_from: 51,\\n        percentage_to: 75,\\n        lmii_recognition_from: 25,\\n        vpaii_recognition_from: 39,\\n        vrii_recognition_from: 6,\\n        },\\n    {\\n        age_from: 55.0,\\n        age_to: 64.11,\\n        percentage_from: 76,\\n        lmii_recognition_from: 26,\\n        lmii_recognition_to: 30,\\n        vpaii_recognition_from: 40,\\n        vrii_recognition_from: 7,\\n        },\\n    {\\n        age_from: 65.0,\\n        age_to: 69.11,\\n        percentage_to: 2,\\n        lmii_recognition_from: 0,\\n        lmii_recognition_to: 17,\\n        vpaii_recognition_from: 0,\\n        vpaii_recognition_to: 18,\\n        vrii_recognition_from: 0,\\n        vrii_recognition_to: 1\\n    },\\n    {\\n        age_from: 65.0,\\n        age_to: 69.11,\\n        percentage_from: 3,\\n        percentage_to: 9,\\n        lmii_recognition_from: 18,\\n        lmii_recognition_to: 19,\\n        vpaii_recognition_from: 19,\\n        vpaii_recognition_to: 31,\\n        vrii_recognition_from: 2,\\n        },\\n    {\\n        age_from: 65.0,\\n        age_to: 69.11,\\n        percentage_from: 10,\\n        percentage_to: 16,\\n        lmii_recognition_from: 20,\\n        vpaii_recognition_from: 32,\\n        vpaii_recognition_to: 34,\\n        vrii_recognition_from: 3,\\n        },\\n    {\\n        age_from: 65.0,\\n        age_to: 69.11,\\n        percentage_from: 17,\\n        percentage_to: 25,\\n        lmii_recognition_from: 21,\\n        lmii_recognition_to: 22,\\n        vpaii_recognition_from: 35,\\n        },\\n    {\\n        age_from: 65.0,\\n        age_to: 69.11,\\n        percentage_from: 26,\\n        percentage_to: 50,\\n        lmii_recognition_from: 23,\\n        lmii_recognition_to: 24,\\n        vpaii_recognition_from: 36,\\n        vpaii_recognition_to: 37,\\n        vrii_recognition_from: 4,\\n        vrii_recognition_to: 5\\n    },\\n    {\\n        age_from: 65.0,\\n        age_to: 69.11,\\n        percentage_from: 51,\\n        percentage_to: 75,\\n        lmii_recognition_from: 25,\\n        vpaii_recognition_from: 38,\\n        },\\n    {\\n        age_from: 65.0,\\n        age_to: 69.11,\\n        percentage_from: 76,\\n        lmii_recognition_from: 26,\\n        lmii_recognition_to: 30,\\n        vpaii_recognition_from: 39,\\n        vpaii_recognition_to: 40,\\n        vrii_recognition_from: 6,\\n        vrii_recognition_to: 7\\n    }\\n]'"
      ]
     },
     "execution_count": 78,
     "metadata": {},
     "output_type": "execute_result"
    }
   ],
   "source": [
    "rake_string"
   ]
  },
  {
   "cell_type": "code",
   "execution_count": 79,
   "metadata": {},
   "outputs": [],
   "source": [
    "with open(OUTPUT_FILE, 'w') as f:\n",
    "    f.write(rake_string)"
   ]
  },
  {
   "cell_type": "code",
   "execution_count": null,
   "metadata": {},
   "outputs": [],
   "source": []
  },
  {
   "cell_type": "code",
   "execution_count": null,
   "metadata": {},
   "outputs": [],
   "source": []
  }
 ],
 "metadata": {
  "kernelspec": {
   "display_name": "data_science",
   "language": "python",
   "name": "data_science"
  },
  "language_info": {
   "codemirror_mode": {
    "name": "ipython",
    "version": 3
   },
   "file_extension": ".py",
   "mimetype": "text/x-python",
   "name": "python",
   "nbconvert_exporter": "python",
   "pygments_lexer": "ipython3",
   "version": "3.9.7"
  }
 },
 "nbformat": 4,
 "nbformat_minor": 4
}
